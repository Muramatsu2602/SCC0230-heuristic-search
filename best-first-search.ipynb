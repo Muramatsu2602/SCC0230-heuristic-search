{
 "cells": [
  {
   "cell_type": "markdown",
   "metadata": {},
   "source": [
    "## Read CSV"
   ]
  },
  {
   "cell_type": "code",
   "execution_count": 17,
   "metadata": {},
   "outputs": [],
   "source": [
    "import numpy as np\n",
    "import pandas as pd\n",
    "import heapq"
   ]
  },
  {
   "cell_type": "code",
   "execution_count": 29,
   "metadata": {},
   "outputs": [],
   "source": [
    "df = pd.read_csv('us_routes_dist.csv')"
   ]
  },
  {
   "cell_type": "code",
   "execution_count": 30,
   "metadata": {},
   "outputs": [
    {
     "data": {
      "text/html": [
       "<div>\n",
       "<style scoped>\n",
       "    .dataframe tbody tr th:only-of-type {\n",
       "        vertical-align: middle;\n",
       "    }\n",
       "\n",
       "    .dataframe tbody tr th {\n",
       "        vertical-align: top;\n",
       "    }\n",
       "\n",
       "    .dataframe thead th {\n",
       "        text-align: right;\n",
       "    }\n",
       "</style>\n",
       "<table border=\"1\" class=\"dataframe\">\n",
       "  <thead>\n",
       "    <tr style=\"text-align: right;\">\n",
       "      <th></th>\n",
       "      <th>Unnamed: 0</th>\n",
       "      <th>airline</th>\n",
       "      <th>airline_id</th>\n",
       "      <th>source</th>\n",
       "      <th>source_id</th>\n",
       "      <th>dest</th>\n",
       "      <th>dest_id</th>\n",
       "      <th>codeshare</th>\n",
       "      <th>stops</th>\n",
       "      <th>equipment</th>\n",
       "      <th>distance</th>\n",
       "    </tr>\n",
       "  </thead>\n",
       "  <tbody>\n",
       "    <tr>\n",
       "      <th>0</th>\n",
       "      <td>172</td>\n",
       "      <td>2O</td>\n",
       "      <td>146</td>\n",
       "      <td>ADQ</td>\n",
       "      <td>3531</td>\n",
       "      <td>KLN</td>\n",
       "      <td>7162</td>\n",
       "      <td>NaN</td>\n",
       "      <td>0</td>\n",
       "      <td>BNI</td>\n",
       "      <td>2.128521</td>\n",
       "    </tr>\n",
       "    <tr>\n",
       "      <th>1</th>\n",
       "      <td>177</td>\n",
       "      <td>2O</td>\n",
       "      <td>146</td>\n",
       "      <td>KLN</td>\n",
       "      <td>7162</td>\n",
       "      <td>KYK</td>\n",
       "      <td>7161</td>\n",
       "      <td>NaN</td>\n",
       "      <td>0</td>\n",
       "      <td>BNI</td>\n",
       "      <td>0.603091</td>\n",
       "    </tr>\n",
       "    <tr>\n",
       "      <th>2</th>\n",
       "      <td>260</td>\n",
       "      <td>3E</td>\n",
       "      <td>10739</td>\n",
       "      <td>BRL</td>\n",
       "      <td>5726</td>\n",
       "      <td>ORD</td>\n",
       "      <td>3830</td>\n",
       "      <td>NaN</td>\n",
       "      <td>0</td>\n",
       "      <td>CNC</td>\n",
       "      <td>1.153044</td>\n",
       "    </tr>\n",
       "    <tr>\n",
       "      <th>3</th>\n",
       "      <td>261</td>\n",
       "      <td>3E</td>\n",
       "      <td>10739</td>\n",
       "      <td>BRL</td>\n",
       "      <td>5726</td>\n",
       "      <td>STL</td>\n",
       "      <td>3678</td>\n",
       "      <td>NaN</td>\n",
       "      <td>0</td>\n",
       "      <td>CNC</td>\n",
       "      <td>1.609324</td>\n",
       "    </tr>\n",
       "    <tr>\n",
       "      <th>4</th>\n",
       "      <td>262</td>\n",
       "      <td>3E</td>\n",
       "      <td>10739</td>\n",
       "      <td>DEC</td>\n",
       "      <td>4042</td>\n",
       "      <td>ORD</td>\n",
       "      <td>3830</td>\n",
       "      <td>NaN</td>\n",
       "      <td>0</td>\n",
       "      <td>CNC</td>\n",
       "      <td>11.138693</td>\n",
       "    </tr>\n",
       "  </tbody>\n",
       "</table>\n",
       "</div>"
      ],
      "text/plain": [
       "   Unnamed: 0 airline airline_id source  source_id dest  dest_id codeshare  \\\n",
       "0         172      2O        146    ADQ       3531  KLN     7162       NaN   \n",
       "1         177      2O        146    KLN       7162  KYK     7161       NaN   \n",
       "2         260      3E      10739    BRL       5726  ORD     3830       NaN   \n",
       "3         261      3E      10739    BRL       5726  STL     3678       NaN   \n",
       "4         262      3E      10739    DEC       4042  ORD     3830       NaN   \n",
       "\n",
       "   stops equipment   distance  \n",
       "0      0       BNI   2.128521  \n",
       "1      0       BNI   0.603091  \n",
       "2      0       CNC   1.153044  \n",
       "3      0       CNC   1.609324  \n",
       "4      0       CNC  11.138693  "
      ]
     },
     "execution_count": 30,
     "metadata": {},
     "output_type": "execute_result"
    }
   ],
   "source": [
    "df.head()"
   ]
  },
  {
   "cell_type": "markdown",
   "metadata": {},
   "source": [
    "## Create a graph"
   ]
  },
  {
   "cell_type": "code",
   "execution_count": 31,
   "metadata": {},
   "outputs": [],
   "source": [
    "# Get uniques source-dest pairs from df\n",
    "graph = df[['source', 'dest', 'distance']]"
   ]
  },
  {
   "cell_type": "code",
   "execution_count": 32,
   "metadata": {},
   "outputs": [
    {
     "data": {
      "text/html": [
       "<div>\n",
       "<style scoped>\n",
       "    .dataframe tbody tr th:only-of-type {\n",
       "        vertical-align: middle;\n",
       "    }\n",
       "\n",
       "    .dataframe tbody tr th {\n",
       "        vertical-align: top;\n",
       "    }\n",
       "\n",
       "    .dataframe thead th {\n",
       "        text-align: right;\n",
       "    }\n",
       "</style>\n",
       "<table border=\"1\" class=\"dataframe\">\n",
       "  <thead>\n",
       "    <tr style=\"text-align: right;\">\n",
       "      <th></th>\n",
       "      <th>source</th>\n",
       "      <th>dest</th>\n",
       "      <th>distance</th>\n",
       "    </tr>\n",
       "  </thead>\n",
       "  <tbody>\n",
       "    <tr>\n",
       "      <th>0</th>\n",
       "      <td>ADQ</td>\n",
       "      <td>KLN</td>\n",
       "      <td>2.128521</td>\n",
       "    </tr>\n",
       "    <tr>\n",
       "      <th>1</th>\n",
       "      <td>KLN</td>\n",
       "      <td>KYK</td>\n",
       "      <td>0.603091</td>\n",
       "    </tr>\n",
       "    <tr>\n",
       "      <th>2</th>\n",
       "      <td>BRL</td>\n",
       "      <td>ORD</td>\n",
       "      <td>1.153044</td>\n",
       "    </tr>\n",
       "    <tr>\n",
       "      <th>3</th>\n",
       "      <td>BRL</td>\n",
       "      <td>STL</td>\n",
       "      <td>1.609324</td>\n",
       "    </tr>\n",
       "    <tr>\n",
       "      <th>4</th>\n",
       "      <td>DEC</td>\n",
       "      <td>ORD</td>\n",
       "      <td>11.138693</td>\n",
       "    </tr>\n",
       "    <tr>\n",
       "      <th>...</th>\n",
       "      <td>...</td>\n",
       "      <td>...</td>\n",
       "      <td>...</td>\n",
       "    </tr>\n",
       "    <tr>\n",
       "      <th>2189</th>\n",
       "      <td>TUS</td>\n",
       "      <td>ATL</td>\n",
       "      <td>4.136367</td>\n",
       "    </tr>\n",
       "    <tr>\n",
       "      <th>2190</th>\n",
       "      <td>TYS</td>\n",
       "      <td>ATL</td>\n",
       "      <td>34.461664</td>\n",
       "    </tr>\n",
       "    <tr>\n",
       "      <th>2191</th>\n",
       "      <td>VLD</td>\n",
       "      <td>ATL</td>\n",
       "      <td>10.263855</td>\n",
       "    </tr>\n",
       "    <tr>\n",
       "      <th>2192</th>\n",
       "      <td>VPS</td>\n",
       "      <td>ATL</td>\n",
       "      <td>6.441787</td>\n",
       "    </tr>\n",
       "    <tr>\n",
       "      <th>2193</th>\n",
       "      <td>XNA</td>\n",
       "      <td>ATL</td>\n",
       "      <td>11.844883</td>\n",
       "    </tr>\n",
       "  </tbody>\n",
       "</table>\n",
       "<p>2194 rows × 3 columns</p>\n",
       "</div>"
      ],
      "text/plain": [
       "     source dest   distance\n",
       "0       ADQ  KLN   2.128521\n",
       "1       KLN  KYK   0.603091\n",
       "2       BRL  ORD   1.153044\n",
       "3       BRL  STL   1.609324\n",
       "4       DEC  ORD  11.138693\n",
       "...     ...  ...        ...\n",
       "2189    TUS  ATL   4.136367\n",
       "2190    TYS  ATL  34.461664\n",
       "2191    VLD  ATL  10.263855\n",
       "2192    VPS  ATL   6.441787\n",
       "2193    XNA  ATL  11.844883\n",
       "\n",
       "[2194 rows x 3 columns]"
      ]
     },
     "execution_count": 32,
     "metadata": {},
     "output_type": "execute_result"
    }
   ],
   "source": [
    "# Drop from graph where distance is NaN\n",
    "graph = graph.dropna()\n",
    "graph"
   ]
  },
  {
   "cell_type": "code",
   "execution_count": 61,
   "metadata": {},
   "outputs": [
    {
     "data": {
      "text/html": [
       "<div>\n",
       "<style scoped>\n",
       "    .dataframe tbody tr th:only-of-type {\n",
       "        vertical-align: middle;\n",
       "    }\n",
       "\n",
       "    .dataframe tbody tr th {\n",
       "        vertical-align: top;\n",
       "    }\n",
       "\n",
       "    .dataframe thead th {\n",
       "        text-align: right;\n",
       "    }\n",
       "</style>\n",
       "<table border=\"1\" class=\"dataframe\">\n",
       "  <thead>\n",
       "    <tr style=\"text-align: right;\">\n",
       "      <th></th>\n",
       "      <th>source</th>\n",
       "      <th>dest</th>\n",
       "      <th>distance</th>\n",
       "    </tr>\n",
       "  </thead>\n",
       "  <tbody>\n",
       "    <tr>\n",
       "      <th>0</th>\n",
       "      <td>ADQ</td>\n",
       "      <td>KLN</td>\n",
       "      <td>2.128521</td>\n",
       "    </tr>\n",
       "    <tr>\n",
       "      <th>99</th>\n",
       "      <td>ADQ</td>\n",
       "      <td>ANC</td>\n",
       "      <td>1.587634</td>\n",
       "    </tr>\n",
       "    <tr>\n",
       "      <th>280</th>\n",
       "      <td>ADQ</td>\n",
       "      <td>AKK</td>\n",
       "      <td>16.320888</td>\n",
       "    </tr>\n",
       "  </tbody>\n",
       "</table>\n",
       "</div>"
      ],
      "text/plain": [
       "    source dest   distance\n",
       "0      ADQ  KLN   2.128521\n",
       "99     ADQ  ANC   1.587634\n",
       "280    ADQ  AKK  16.320888"
      ]
     },
     "execution_count": 61,
     "metadata": {},
     "output_type": "execute_result"
    }
   ],
   "source": [
    "graph.loc[graph['source'] == 'ADQ']"
   ]
  },
  {
   "cell_type": "code",
   "execution_count": 71,
   "metadata": {},
   "outputs": [
    {
     "name": "stdout",
     "output_type": "stream",
     "text": [
      "     source dest   distance\n",
      "7       ORD  BRL   0.546768\n",
      "8       ORD  DEC   0.305825\n",
      "1390    ORD  ABQ   9.037408\n",
      "1391    ORD  ALO   9.037408\n",
      "1392    ORD  ART   0.842480\n",
      "...     ...  ...        ...\n",
      "1485    ORD  TVC  11.140467\n",
      "1486    ORD  TYS  32.384502\n",
      "1487    ORD  XNA  36.401936\n",
      "1908    ORD  MSY   4.778303\n",
      "2152    ORD  ATL  40.090622\n",
      "\n",
      "[102 rows x 3 columns]\n",
      "  source dest  distance\n",
      "2    BRL  ORD  1.153044\n",
      "3    BRL  STL  1.609324\n"
     ]
    },
    {
     "data": {
      "text/html": [
       "<div>\n",
       "<style scoped>\n",
       "    .dataframe tbody tr th:only-of-type {\n",
       "        vertical-align: middle;\n",
       "    }\n",
       "\n",
       "    .dataframe tbody tr th {\n",
       "        vertical-align: top;\n",
       "    }\n",
       "\n",
       "    .dataframe thead th {\n",
       "        text-align: right;\n",
       "    }\n",
       "</style>\n",
       "<table border=\"1\" class=\"dataframe\">\n",
       "  <thead>\n",
       "    <tr style=\"text-align: right;\">\n",
       "      <th></th>\n",
       "      <th>source</th>\n",
       "      <th>dest</th>\n",
       "      <th>distance</th>\n",
       "    </tr>\n",
       "  </thead>\n",
       "  <tbody>\n",
       "    <tr>\n",
       "      <th>1478</th>\n",
       "      <td>ORD</td>\n",
       "      <td>STL</td>\n",
       "      <td>17.124137</td>\n",
       "    </tr>\n",
       "  </tbody>\n",
       "</table>\n",
       "</div>"
      ],
      "text/plain": [
       "     source dest   distance\n",
       "1478    ORD  STL  17.124137"
      ]
     },
     "execution_count": 71,
     "metadata": {},
     "output_type": "execute_result"
    }
   ],
   "source": [
    "graph.loc[(graph['source'] == 'ORD') & (graph['dest'] == 'ATL')]\n",
    "print(graph.loc[(graph['source'] == 'ORD')])\n",
    "\n",
    "print(graph.loc[graph['source'] == 'BRL'])\n",
    "\n",
    "graph.loc[(graph['source'] == 'ORD')&((graph['dest'] == 'STL'))]"
   ]
  },
  {
   "cell_type": "code",
   "execution_count": 62,
   "metadata": {},
   "outputs": [
    {
     "name": "stdout",
     "output_type": "stream",
     "text": [
      "KLN 2.128521013470194\n",
      "UE2\n",
      "ANC 1.5876342418321463\n",
      "AKK 16.32088811385432\n",
      "ANC nan\n",
      "UE\n"
     ]
    }
   ],
   "source": [
    "graph_dict = {}\n",
    "\n",
    "for row in df.itertuples():\n",
    "    source = row.source\n",
    "    dest = row.dest\n",
    "    distance = row.distance\n",
    "    \n",
    "    if pd.isna(distance):\n",
    "        continue\n",
    "\n",
    "    if source not in graph_dict:\n",
    "        graph_dict[source] = []\n",
    "    \n",
    "    graph_dict[source].append((dest, distance))"
   ]
  },
  {
   "cell_type": "code",
   "execution_count": 63,
   "metadata": {},
   "outputs": [
    {
     "data": {
      "text/plain": [
       "[('KLN', 2.128521013470194),\n",
       " ('ANC', 1.5876342418321463),\n",
       " ('AKK', 16.32088811385432)]"
      ]
     },
     "execution_count": 63,
     "metadata": {},
     "output_type": "execute_result"
    }
   ],
   "source": [
    "graph_dict['ADQ']"
   ]
  },
  {
   "cell_type": "markdown",
   "metadata": {},
   "source": [
    "## Best First Search"
   ]
  },
  {
   "cell_type": "code",
   "execution_count": 75,
   "metadata": {},
   "outputs": [],
   "source": [
    "def best_first_search(graph, start, goal):\n",
    "    open_list = []  # Priority queue\n",
    "    heapq.heappush(open_list, (0, start))  # (heuristic, node)\n",
    "    closed_set = set()\n",
    "\n",
    "\n",
    "    while open_list:\n",
    "        current_distance, current_node = heapq.heappop(open_list)\n",
    "        print(\"current_distance, current_node\")\n",
    "        print(current_distance, current_node)\n",
    "\n",
    "        if current_node in closed_set:\n",
    "            print(\"current_node in closed_set\")\n",
    "            continue\n",
    "\n",
    "        if current_node == goal:\n",
    "            print(\"current_node == goal\")\n",
    "            return current_distance\n",
    "\n",
    "        closed_set.add(current_node)\n",
    "\n",
    "        if current_node in graph:\n",
    "            for neighbor, edge_distance in graph_dict[current_node]:\n",
    "                print(\"neighbor, edge_distance\")\n",
    "                print(neighbor, edge_distance)\n",
    "                \n",
    "                if neighbor not in closed_set:\n",
    "                    print(\"neighbor not in closed_set\")\n",
    "                    heuristic = edge_distance\n",
    "                    heapq.heappush(open_list, (current_distance + heuristic, neighbor))\n",
    "\n",
    "    return None  # No path found"
   ]
  },
  {
   "cell_type": "code",
   "execution_count": null,
   "metadata": {},
   "outputs": [],
   "source": [
    "# Example: Calculate the distance between airports ADQ and ORD\n",
    "start_airport = \"ORD\"\n",
    "end_airport = \"STL\"\n",
    "\n",
    "distance = best_first_search(graph_dict, start_airport, end_airport)\n",
    "\n",
    "if distance is not None:\n",
    "    print(f\"Distance between {start_airport} and {end_airport}: {distance} units\")\n",
    "else:\n",
    "    print(f\"No path found between {start_airport} and {end_airport}\")"
   ]
  }
 ],
 "metadata": {
  "kernelspec": {
   "display_name": "Python 3",
   "language": "python",
   "name": "python3"
  },
  "language_info": {
   "codemirror_mode": {
    "name": "ipython",
    "version": 3
   },
   "file_extension": ".py",
   "mimetype": "text/x-python",
   "name": "python",
   "nbconvert_exporter": "python",
   "pygments_lexer": "ipython3",
   "version": "3.8.10"
  },
  "orig_nbformat": 4
 },
 "nbformat": 4,
 "nbformat_minor": 2
}
